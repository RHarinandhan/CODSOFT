{
 "cells": [
  {
   "cell_type": "code",
   "execution_count": 1,
   "id": "469079f6",
   "metadata": {},
   "outputs": [],
   "source": [
    "# Task 2 CREDIT CARD FRAUD DETECTION using machine learning - Random Forest classifier submitted by Harinandhan\n",
    "# import the necessary packages\n",
    "import numpy as np\n",
    "import pandas as pd\n",
    "import matplotlib.pyplot as plt\n",
    "import seaborn as sns\n",
    "from matplotlib import gridspec\n"
   ]
  },
  {
   "cell_type": "code",
   "execution_count": 2,
   "id": "afdb39e7",
   "metadata": {},
   "outputs": [],
   "source": [
    "# Credit Card Transactions Fraud Detection Dataset which is given by CodSoft\n",
    "# Load the dataset from the csv file using pandas \n",
    "data = pd.read_csv(\"fraudTrain.csv\")\n",
    "data = pd.read_csv(\"fraudTest.csv\")\n",
    "\n"
   ]
  },
  {
   "cell_type": "code",
   "execution_count": 3,
   "id": "08e8aada",
   "metadata": {},
   "outputs": [
    {
     "data": {
      "text/html": [
       "<div>\n",
       "<style scoped>\n",
       "    .dataframe tbody tr th:only-of-type {\n",
       "        vertical-align: middle;\n",
       "    }\n",
       "\n",
       "    .dataframe tbody tr th {\n",
       "        vertical-align: top;\n",
       "    }\n",
       "\n",
       "    .dataframe thead th {\n",
       "        text-align: right;\n",
       "    }\n",
       "</style>\n",
       "<table border=\"1\" class=\"dataframe\">\n",
       "  <thead>\n",
       "    <tr style=\"text-align: right;\">\n",
       "      <th></th>\n",
       "      <th>Unnamed: 0</th>\n",
       "      <th>trans_date_trans_time</th>\n",
       "      <th>cc_num</th>\n",
       "      <th>merchant</th>\n",
       "      <th>category</th>\n",
       "      <th>amt</th>\n",
       "      <th>first</th>\n",
       "      <th>last</th>\n",
       "      <th>gender</th>\n",
       "      <th>street</th>\n",
       "      <th>...</th>\n",
       "      <th>lat</th>\n",
       "      <th>long</th>\n",
       "      <th>city_pop</th>\n",
       "      <th>job</th>\n",
       "      <th>dob</th>\n",
       "      <th>trans_num</th>\n",
       "      <th>unix_time</th>\n",
       "      <th>merch_lat</th>\n",
       "      <th>merch_long</th>\n",
       "      <th>is_fraud</th>\n",
       "    </tr>\n",
       "  </thead>\n",
       "  <tbody>\n",
       "    <tr>\n",
       "      <th>0</th>\n",
       "      <td>0</td>\n",
       "      <td>2020-06-21 12:14:25</td>\n",
       "      <td>2291163933867244</td>\n",
       "      <td>fraud_Kirlin and Sons</td>\n",
       "      <td>personal_care</td>\n",
       "      <td>2.86</td>\n",
       "      <td>Jeff</td>\n",
       "      <td>Elliott</td>\n",
       "      <td>M</td>\n",
       "      <td>351 Darlene Green</td>\n",
       "      <td>...</td>\n",
       "      <td>33.9659</td>\n",
       "      <td>-80.9355</td>\n",
       "      <td>333497</td>\n",
       "      <td>Mechanical engineer</td>\n",
       "      <td>1968-03-19</td>\n",
       "      <td>2da90c7d74bd46a0caf3777415b3ebd3</td>\n",
       "      <td>1371816865</td>\n",
       "      <td>33.986391</td>\n",
       "      <td>-81.200714</td>\n",
       "      <td>0</td>\n",
       "    </tr>\n",
       "    <tr>\n",
       "      <th>1</th>\n",
       "      <td>1</td>\n",
       "      <td>2020-06-21 12:14:33</td>\n",
       "      <td>3573030041201292</td>\n",
       "      <td>fraud_Sporer-Keebler</td>\n",
       "      <td>personal_care</td>\n",
       "      <td>29.84</td>\n",
       "      <td>Joanne</td>\n",
       "      <td>Williams</td>\n",
       "      <td>F</td>\n",
       "      <td>3638 Marsh Union</td>\n",
       "      <td>...</td>\n",
       "      <td>40.3207</td>\n",
       "      <td>-110.4360</td>\n",
       "      <td>302</td>\n",
       "      <td>Sales professional, IT</td>\n",
       "      <td>1990-01-17</td>\n",
       "      <td>324cc204407e99f51b0d6ca0055005e7</td>\n",
       "      <td>1371816873</td>\n",
       "      <td>39.450498</td>\n",
       "      <td>-109.960431</td>\n",
       "      <td>0</td>\n",
       "    </tr>\n",
       "    <tr>\n",
       "      <th>2</th>\n",
       "      <td>2</td>\n",
       "      <td>2020-06-21 12:14:53</td>\n",
       "      <td>3598215285024754</td>\n",
       "      <td>fraud_Swaniawski, Nitzsche and Welch</td>\n",
       "      <td>health_fitness</td>\n",
       "      <td>41.28</td>\n",
       "      <td>Ashley</td>\n",
       "      <td>Lopez</td>\n",
       "      <td>F</td>\n",
       "      <td>9333 Valentine Point</td>\n",
       "      <td>...</td>\n",
       "      <td>40.6729</td>\n",
       "      <td>-73.5365</td>\n",
       "      <td>34496</td>\n",
       "      <td>Librarian, public</td>\n",
       "      <td>1970-10-21</td>\n",
       "      <td>c81755dbbbea9d5c77f094348a7579be</td>\n",
       "      <td>1371816893</td>\n",
       "      <td>40.495810</td>\n",
       "      <td>-74.196111</td>\n",
       "      <td>0</td>\n",
       "    </tr>\n",
       "    <tr>\n",
       "      <th>3</th>\n",
       "      <td>3</td>\n",
       "      <td>2020-06-21 12:15:15</td>\n",
       "      <td>3591919803438423</td>\n",
       "      <td>fraud_Haley Group</td>\n",
       "      <td>misc_pos</td>\n",
       "      <td>60.05</td>\n",
       "      <td>Brian</td>\n",
       "      <td>Williams</td>\n",
       "      <td>M</td>\n",
       "      <td>32941 Krystal Mill Apt. 552</td>\n",
       "      <td>...</td>\n",
       "      <td>28.5697</td>\n",
       "      <td>-80.8191</td>\n",
       "      <td>54767</td>\n",
       "      <td>Set designer</td>\n",
       "      <td>1987-07-25</td>\n",
       "      <td>2159175b9efe66dc301f149d3d5abf8c</td>\n",
       "      <td>1371816915</td>\n",
       "      <td>28.812398</td>\n",
       "      <td>-80.883061</td>\n",
       "      <td>0</td>\n",
       "    </tr>\n",
       "    <tr>\n",
       "      <th>4</th>\n",
       "      <td>4</td>\n",
       "      <td>2020-06-21 12:15:17</td>\n",
       "      <td>3526826139003047</td>\n",
       "      <td>fraud_Johnston-Casper</td>\n",
       "      <td>travel</td>\n",
       "      <td>3.19</td>\n",
       "      <td>Nathan</td>\n",
       "      <td>Massey</td>\n",
       "      <td>M</td>\n",
       "      <td>5783 Evan Roads Apt. 465</td>\n",
       "      <td>...</td>\n",
       "      <td>44.2529</td>\n",
       "      <td>-85.0170</td>\n",
       "      <td>1126</td>\n",
       "      <td>Furniture designer</td>\n",
       "      <td>1955-07-06</td>\n",
       "      <td>57ff021bd3f328f8738bb535c302a31b</td>\n",
       "      <td>1371816917</td>\n",
       "      <td>44.959148</td>\n",
       "      <td>-85.884734</td>\n",
       "      <td>0</td>\n",
       "    </tr>\n",
       "  </tbody>\n",
       "</table>\n",
       "<p>5 rows × 23 columns</p>\n",
       "</div>"
      ],
      "text/plain": [
       "   Unnamed: 0 trans_date_trans_time            cc_num  \\\n",
       "0           0   2020-06-21 12:14:25  2291163933867244   \n",
       "1           1   2020-06-21 12:14:33  3573030041201292   \n",
       "2           2   2020-06-21 12:14:53  3598215285024754   \n",
       "3           3   2020-06-21 12:15:15  3591919803438423   \n",
       "4           4   2020-06-21 12:15:17  3526826139003047   \n",
       "\n",
       "                               merchant        category    amt   first  \\\n",
       "0                 fraud_Kirlin and Sons   personal_care   2.86    Jeff   \n",
       "1                  fraud_Sporer-Keebler   personal_care  29.84  Joanne   \n",
       "2  fraud_Swaniawski, Nitzsche and Welch  health_fitness  41.28  Ashley   \n",
       "3                     fraud_Haley Group        misc_pos  60.05   Brian   \n",
       "4                 fraud_Johnston-Casper          travel   3.19  Nathan   \n",
       "\n",
       "       last gender                       street  ...      lat      long  \\\n",
       "0   Elliott      M            351 Darlene Green  ...  33.9659  -80.9355   \n",
       "1  Williams      F             3638 Marsh Union  ...  40.3207 -110.4360   \n",
       "2     Lopez      F         9333 Valentine Point  ...  40.6729  -73.5365   \n",
       "3  Williams      M  32941 Krystal Mill Apt. 552  ...  28.5697  -80.8191   \n",
       "4    Massey      M     5783 Evan Roads Apt. 465  ...  44.2529  -85.0170   \n",
       "\n",
       "   city_pop                     job         dob  \\\n",
       "0    333497     Mechanical engineer  1968-03-19   \n",
       "1       302  Sales professional, IT  1990-01-17   \n",
       "2     34496       Librarian, public  1970-10-21   \n",
       "3     54767            Set designer  1987-07-25   \n",
       "4      1126      Furniture designer  1955-07-06   \n",
       "\n",
       "                          trans_num   unix_time  merch_lat  merch_long  \\\n",
       "0  2da90c7d74bd46a0caf3777415b3ebd3  1371816865  33.986391  -81.200714   \n",
       "1  324cc204407e99f51b0d6ca0055005e7  1371816873  39.450498 -109.960431   \n",
       "2  c81755dbbbea9d5c77f094348a7579be  1371816893  40.495810  -74.196111   \n",
       "3  2159175b9efe66dc301f149d3d5abf8c  1371816915  28.812398  -80.883061   \n",
       "4  57ff021bd3f328f8738bb535c302a31b  1371816917  44.959148  -85.884734   \n",
       "\n",
       "   is_fraud  \n",
       "0         0  \n",
       "1         0  \n",
       "2         0  \n",
       "3         0  \n",
       "4         0  \n",
       "\n",
       "[5 rows x 23 columns]"
      ]
     },
     "execution_count": 3,
     "metadata": {},
     "output_type": "execute_result"
    }
   ],
   "source": [
    "\n",
    "data.head()\n"
   ]
  },
  {
   "cell_type": "code",
   "execution_count": 4,
   "id": "7278bc1e",
   "metadata": {},
   "outputs": [
    {
     "name": "stdout",
     "output_type": "stream",
     "text": [
      "(555719, 23)\n",
      "          Unnamed: 0        cc_num            amt            zip  \\\n",
      "count  555719.000000  5.557190e+05  555719.000000  555719.000000   \n",
      "mean   277859.000000  4.178387e+17      69.392810   48842.628015   \n",
      "std    160422.401459  1.309837e+18     156.745941   26855.283328   \n",
      "min         0.000000  6.041621e+10       1.000000    1257.000000   \n",
      "25%    138929.500000  1.800429e+14       9.630000   26292.000000   \n",
      "50%    277859.000000  3.521417e+15      47.290000   48174.000000   \n",
      "75%    416788.500000  4.635331e+15      83.010000   72011.000000   \n",
      "max    555718.000000  4.992346e+18   22768.110000   99921.000000   \n",
      "\n",
      "                 lat           long      city_pop     unix_time  \\\n",
      "count  555719.000000  555719.000000  5.557190e+05  5.557190e+05   \n",
      "mean       38.543253     -90.231325  8.822189e+04  1.380679e+09   \n",
      "std         5.061336      13.721780  3.003909e+05  5.201104e+06   \n",
      "min        20.027100    -165.672300  2.300000e+01  1.371817e+09   \n",
      "25%        34.668900     -96.798000  7.410000e+02  1.376029e+09   \n",
      "50%        39.371600     -87.476900  2.408000e+03  1.380762e+09   \n",
      "75%        41.894800     -80.175200  1.968500e+04  1.385867e+09   \n",
      "max        65.689900     -67.950300  2.906700e+06  1.388534e+09   \n",
      "\n",
      "           merch_lat     merch_long       is_fraud  \n",
      "count  555719.000000  555719.000000  555719.000000  \n",
      "mean       38.542798     -90.231380       0.003860  \n",
      "std         5.095829      13.733071       0.062008  \n",
      "min        19.027422    -166.671575       0.000000  \n",
      "25%        34.755302     -96.905129       0.000000  \n",
      "50%        39.376593     -87.445204       0.000000  \n",
      "75%        41.954163     -80.264637       0.000000  \n",
      "max        66.679297     -66.952026       1.000000  \n"
     ]
    }
   ],
   "source": [
    "\n",
    "print(data.shape)\n",
    "print(data.describe())\n"
   ]
  },
  {
   "cell_type": "code",
   "execution_count": 5,
   "id": "996227f0",
   "metadata": {},
   "outputs": [
    {
     "name": "stdout",
     "output_type": "stream",
     "text": [
      "1.0\n",
      "Fraud Cases: 1\n",
      "Valid Transactions: 1\n"
     ]
    }
   ],
   "source": [
    "# Code : Imbalance in the data\n",
    "fraud = data[data['Unnamed: 0'] == 1]\n",
    "valid = data[data['Unnamed: 0'] == 0]\n",
    "outlierFraction = len(fraud)/float(len(valid))\n",
    "print(outlierFraction)\n",
    "print('Fraud Cases: {}'.format(len(data[data['Unnamed: 0'] == 1])))\n",
    "print('Valid Transactions: {}'.format(len(data[data['Unnamed: 0'] == 0])))\n"
   ]
  },
  {
   "cell_type": "code",
   "execution_count": 6,
   "id": "44032041",
   "metadata": {},
   "outputs": [
    {
     "name": "stdout",
     "output_type": "stream",
     "text": [
      "amt\n"
     ]
    },
    {
     "data": {
      "text/plain": [
       "count     1.00\n",
       "mean     29.84\n",
       "std        NaN\n",
       "min      29.84\n",
       "25%      29.84\n",
       "50%      29.84\n",
       "75%      29.84\n",
       "max      29.84\n",
       "Name: amt, dtype: float64"
      ]
     },
     "execution_count": 6,
     "metadata": {},
     "output_type": "execute_result"
    }
   ],
   "source": [
    "# Printing the amount details for Fraudulent Transaction\n",
    "print(\"amt\")\n",
    "fraud.amt.describe()\n"
   ]
  },
  {
   "cell_type": "code",
   "execution_count": 7,
   "id": "fe7153dc",
   "metadata": {},
   "outputs": [
    {
     "name": "stdout",
     "output_type": "stream",
     "text": [
      "Datetime Object: 2020-06-21 12:14:25\n",
      "Timestamp (float): 1592721865.0\n"
     ]
    }
   ],
   "source": [
    "from datetime import datetime\n",
    "\n",
    "# Sample datetime string\n",
    "datetime_str = '2020-06-21 12:14:25'\n",
    "\n",
    "# Convert the datetime string to a datetime object\n",
    "datetime_obj = datetime.strptime(datetime_str, '%Y-%m-%d %H:%M:%S')\n",
    "\n",
    "# If you need a float representation, you can get the timestamp\n",
    "timestamp = datetime_obj.timestamp()\n",
    "\n",
    "# Output the results\n",
    "print(\"Datetime Object:\", datetime_obj)\n",
    "print(\"Timestamp (float):\", timestamp)\n"
   ]
  },
  {
   "cell_type": "code",
   "execution_count": 8,
   "id": "aaefa1f9",
   "metadata": {},
   "outputs": [],
   "source": [
    "import pandas as pd\n",
    "\n",
    "# Load data from a CSV file\n",
    "data = pd.read_csv('fraudTrain.csv')\n"
   ]
  },
  {
   "cell_type": "code",
   "execution_count": 9,
   "id": "ce0e7634",
   "metadata": {},
   "outputs": [],
   "source": [
    "# Define the input features (X) and the target variable (Y)\n",
    "X = data[['cc_num', 'merchant', 'amt']]\n",
    "Y = data['is_fraud']\n"
   ]
  },
  {
   "cell_type": "code",
   "execution_count": 10,
   "id": "fe6c535f",
   "metadata": {},
   "outputs": [
    {
     "name": "stdout",
     "output_type": "stream",
     "text": [
      "Input Parameters (X):\n",
      "             cc_num                            merchant     amt\n",
      "0  2703186189652095          fraud_Rippin, Kub and Mann    4.97\n",
      "1      630423337322     fraud_Heller, Gutmann and Zieme  107.23\n",
      "2    38859492057661                fraud_Lind-Buckridge  220.11\n",
      "3  3534093764340240  fraud_Kutch, Hermiston and Farrell   45.00\n",
      "4   375534208663984                 fraud_Keeling-Crist   41.96\n",
      "\n",
      "Output Values (Y):\n",
      "0    0\n",
      "1    0\n",
      "2    0\n",
      "3    0\n",
      "4    0\n",
      "Name: is_fraud, dtype: int64\n"
     ]
    }
   ],
   "source": [
    "import pandas as pd\n",
    "\n",
    "# Load data from a CSV file\n",
    "data = pd.read_csv('fraudTrain.csv')\n",
    "\n",
    "# Define the input features (X) and the target variable (Y)\n",
    "X = data[['cc_num', 'merchant', 'amt']]\n",
    "Y = data['is_fraud']\n",
    "\n",
    "# Display the first few rows of X and Y\n",
    "print(\"Input Parameters (X):\")\n",
    "print(X.head())\n",
    "\n",
    "print(\"\\nOutput Values (Y):\")\n",
    "print(Y.head())\n"
   ]
  },
  {
   "cell_type": "code",
   "execution_count": 11,
   "id": "c3c40cfc",
   "metadata": {},
   "outputs": [
    {
     "name": "stdout",
     "output_type": "stream",
     "text": [
      "(1296675, 22)\n",
      "(1296675,)\n"
     ]
    }
   ],
   "source": [
    "# dividing the X and the Y from the dataset\n",
    "X = data.drop(['amt'], axis = 1)\n",
    "Y = data[\"is_fraud\"]\n",
    "print(X.shape)\n",
    "print(Y.shape)\n",
    "# getting just the values for the sake of processing \n",
    "# (its a numpy array with no columns)\n",
    "xData = X.values\n",
    "yData = Y.values\n"
   ]
  },
  {
   "cell_type": "code",
   "execution_count": 12,
   "id": "0cb27081",
   "metadata": {},
   "outputs": [],
   "source": [
    "# Using Scikit-learn to split data into training and testing sets\n",
    "from sklearn.model_selection import train_test_split\n",
    "# Split the data into training and testing sets\n",
    "xTrain, xTest, yTrain, yTest = train_test_split(\n",
    "        xData, yData, test_size = 0.2, random_state = 42)\n"
   ]
  },
  {
   "cell_type": "code",
   "execution_count": 13,
   "id": "3f785d8f",
   "metadata": {},
   "outputs": [
    {
     "name": "stdout",
     "output_type": "stream",
     "text": [
      "Training set - X_train shape: (1037340, 3)\n",
      "Training set - Y_train shape: (1037340,)\n",
      "Testing set - X_test shape: (259335, 3)\n",
      "Testing set - Y_test shape: (259335,)\n"
     ]
    }
   ],
   "source": [
    "import pandas as pd\n",
    "from sklearn.model_selection import train_test_split\n",
    "\n",
    "# Load data from a CSV file\n",
    "data = pd.read_csv('fraudTrain.csv')\n",
    "\n",
    "# Define the input features (X) and the target variable (Y)\n",
    "X = data[['cc_num', 'merchant', 'amt']]\n",
    "Y = data['is_fraud']\n",
    "\n",
    "# Split the data into training and testing sets\n",
    "X_train, X_test, Y_train, Y_test = train_test_split(X, Y, test_size=0.2, random_state=42)\n",
    "\n",
    "# Display the shapes of the resulting datasets\n",
    "print(\"Training set - X_train shape:\", X_train.shape)\n",
    "print(\"Training set - Y_train shape:\", Y_train.shape)\n",
    "print(\"Testing set - X_test shape:\", X_test.shape)\n",
    "print(\"Testing set - Y_test shape:\", Y_test.shape)\n"
   ]
  },
  {
   "cell_type": "code",
   "execution_count": 14,
   "id": "2e71bc1a",
   "metadata": {},
   "outputs": [
    {
     "name": "stdout",
     "output_type": "stream",
     "text": [
      "Accuracy: 0.9957468139664912\n",
      "Confusion Matrix:\n",
      " [[257625    190]\n",
      " [   913    607]]\n",
      "Classification Report:\n",
      "               precision    recall  f1-score   support\n",
      "\n",
      "           0       1.00      1.00      1.00    257815\n",
      "           1       0.76      0.40      0.52      1520\n",
      "\n",
      "    accuracy                           1.00    259335\n",
      "   macro avg       0.88      0.70      0.76    259335\n",
      "weighted avg       1.00      1.00      1.00    259335\n",
      "\n"
     ]
    }
   ],
   "source": [
    "import pandas as pd\n",
    "from sklearn.model_selection import train_test_split\n",
    "from sklearn.ensemble import RandomForestClassifier\n",
    "from sklearn.metrics import accuracy_score, confusion_matrix, classification_report\n",
    "\n",
    "# Load data from a CSV file\n",
    "data = pd.read_csv('fraudTrain.csv')\n",
    "\n",
    "# Define the input features (X) and the target variable (Y)\n",
    "X = data[['cc_num', 'amt', 'unix_time']]  # Replace with your actual feature columns\n",
    "Y = data['is_fraud']  # Replace with your actual target column\n",
    "\n",
    "# Split the data into training and testing sets\n",
    "X_train, X_test, Y_train, Y_test = train_test_split(X, Y, test_size=0.2, random_state=42)\n",
    "\n",
    "# Build the Random Forest model\n",
    "model = RandomForestClassifier(n_estimators=100, random_state=42)\n",
    "\n",
    "# Train the model\n",
    "model.fit(X_train, Y_train)\n",
    "\n",
    "# Make predictions on the testing set\n",
    "Y_pred = model.predict(X_test)\n",
    "\n",
    "# Evaluate the model\n",
    "accuracy = accuracy_score(Y_test, Y_pred)\n",
    "conf_matrix = confusion_matrix(Y_test, Y_pred)\n",
    "class_report = classification_report(Y_test, Y_pred)\n",
    "\n",
    "print(\"Accuracy:\", accuracy)\n",
    "print(\"Confusion Matrix:\\n\", conf_matrix)\n",
    "print(\"Classification Report:\\n\", class_report)\n"
   ]
  },
  {
   "cell_type": "code",
   "execution_count": 16,
   "id": "17491b71",
   "metadata": {},
   "outputs": [],
   "source": [
    "yPred = model.predict(X_test)\n"
   ]
  },
  {
   "cell_type": "code",
   "execution_count": 18,
   "id": "f79c956c",
   "metadata": {},
   "outputs": [
    {
     "name": "stdout",
     "output_type": "stream",
     "text": [
      "The model used is Random Forest classifier\n",
      "The accuracy is 0.9957468139664912\n",
      "The precision is 0.7616060225846926\n",
      "The recall is 0.3993421052631579\n",
      "The F1-Score is 0.5239533880017263\n",
      "The Matthews correlation coefficient is0.5497021418982725\n"
     ]
    }
   ],
   "source": [
    "# Evaluating the classifier\n",
    "# printing every score of the classifier\n",
    "# scoring in anything\n",
    "from sklearn.metrics import classification_report, accuracy_score \n",
    "from sklearn.metrics import precision_score, recall_score\n",
    "from sklearn.metrics import f1_score, matthews_corrcoef\n",
    "from sklearn.metrics import confusion_matrix\n",
    "\n",
    "n_outliers = len(fraud)\n",
    "n_errors = (yPred != yTest).sum()\n",
    "print(\"The model used is Random Forest classifier\")\n",
    "\n",
    "acc = accuracy_score(yTest, yPred)\n",
    "print(\"The accuracy is {}\".format(acc))\n",
    "\n",
    "prec = precision_score(yTest, yPred)\n",
    "print(\"The precision is {}\".format(prec))\n",
    "\n",
    "rec = recall_score(yTest, yPred)\n",
    "print(\"The recall is {}\".format(rec))\n",
    "\n",
    "f1 = f1_score(yTest, yPred)\n",
    "print(\"The F1-Score is {}\".format(f1))\n",
    "\n",
    "MCC = matthews_corrcoef(yTest, yPred)\n",
    "print(\"The Matthews correlation coefficient is{}\".format(MCC))\n"
   ]
  },
  {
   "cell_type": "code",
   "execution_count": 20,
   "id": "ba0b09fa",
   "metadata": {},
   "outputs": [
    {
     "data": {
      "image/png": "[encoded data removed]",
      "text/plain": [
       "<Figure size 800x800 with 2 Axes>"
      ]
     },
     "metadata": {},
     "output_type": "display_data"
    }
   ],
   "source": [
    "# printing the confusion matrix\n",
    "LABELS = ['Normal', 'Fraud']\n",
    "conf_matrix = confusion_matrix(yTest, yPred)\n",
    "plt.figure(figsize =(8, 8))\n",
    "sns.heatmap(conf_matrix, xticklabels = LABELS, \n",
    "            yticklabels = LABELS, annot = True, fmt =\"d\");\n",
    "plt.title(\"Confusion matrix\")\n",
    "plt.ylabel('True class')\n",
    "plt.xlabel('Predicted class')\n",
    "plt.show()\n"
   ]
  },
  {
   "cell_type": "code",
   "execution_count": null,
   "id": "10f31c9f",
   "metadata": {},
   "outputs": [],
   "source": []
  }
 ],
 "metadata": {
  "kernelspec": {
   "display_name": "Python 3 (ipykernel)",
   "language": "python",
   "name": "python3"
  },
  "language_info": {
   "codemirror_mode": {
    "name": "ipython",
    "version": 3
   },
   "file_extension": ".py",
   "mimetype": "text/x-python",
   "name": "python",
   "nbconvert_exporter": "python",
   "pygments_lexer": "ipython3",
   "version": "3.11.5"
  }
 },
 "nbformat": 4,
 "nbformat_minor": 5
}
